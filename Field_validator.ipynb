{
 "cells": [
  {
   "cell_type": "markdown",
   "id": "97d6ce40",
   "metadata": {},
   "source": [
    "# Field Validator"
   ]
  },
  {
   "cell_type": "markdown",
   "id": "074e6cef",
   "metadata": {},
   "source": [
    "### Field Validator :- \n",
    "\n",
    "This is used when we have to do validation according to some specific bussiness usecases .\n",
    "\n",
    "#### Field Validators are used for :-\n",
    "     1, To do some custom data Validation .\n",
    "     2, To do some transformation ."
   ]
  },
  {
   "cell_type": "code",
   "execution_count": 1,
   "id": "f3de5663",
   "metadata": {},
   "outputs": [
    {
     "name": "stdout",
     "output_type": "stream",
     "text": [
      "Defaulting to user installation because normal site-packages is not writeable\n",
      "Collecting pydantic\n",
      "  Using cached pydantic-2.11.5-py3-none-any.whl.metadata (67 kB)\n",
      "Collecting annotated-types>=0.6.0 (from pydantic)\n",
      "  Using cached annotated_types-0.7.0-py3-none-any.whl.metadata (15 kB)\n",
      "Collecting pydantic-core==2.33.2 (from pydantic)\n",
      "  Using cached pydantic_core-2.33.2-cp313-cp313-win_amd64.whl.metadata (6.9 kB)\n",
      "Collecting typing-extensions>=4.12.2 (from pydantic)\n",
      "  Using cached typing_extensions-4.13.2-py3-none-any.whl.metadata (3.0 kB)\n",
      "Collecting typing-inspection>=0.4.0 (from pydantic)\n",
      "  Using cached typing_inspection-0.4.1-py3-none-any.whl.metadata (2.6 kB)\n",
      "Using cached pydantic-2.11.5-py3-none-any.whl (444 kB)\n",
      "Using cached pydantic_core-2.33.2-cp313-cp313-win_amd64.whl (2.0 MB)\n",
      "Using cached annotated_types-0.7.0-py3-none-any.whl (13 kB)\n",
      "Using cached typing_extensions-4.13.2-py3-none-any.whl (45 kB)\n",
      "Using cached typing_inspection-0.4.1-py3-none-any.whl (14 kB)\n",
      "Installing collected packages: typing-extensions, annotated-types, typing-inspection, pydantic-core, pydantic\n",
      "Successfully installed annotated-types-0.7.0 pydantic-2.11.5 pydantic-core-2.33.2 typing-extensions-4.13.2 typing-inspection-0.4.1\n"
     ]
    },
    {
     "name": "stderr",
     "output_type": "stream",
     "text": [
      "\n",
      "[notice] A new release of pip is available: 25.0.1 -> 25.1.1\n",
      "[notice] To update, run: C:\\Python313\\python.exe -m pip install --upgrade pip\n"
     ]
    }
   ],
   "source": [
    "!pip install pydantic"
   ]
  },
  {
   "cell_type": "code",
   "execution_count": 4,
   "id": "8709dbdc",
   "metadata": {},
   "outputs": [
    {
     "name": "stdout",
     "output_type": "stream",
     "text": [
      "Defaulting to user installation because normal site-packages is not writeable\n",
      "Requirement already satisfied: pydantic[EmailStr] in c:\\users\\bittuk\\appdata\\roaming\\python\\python313\\site-packages (2.11.5)\n",
      "Requirement already satisfied: annotated-types>=0.6.0 in c:\\users\\bittuk\\appdata\\roaming\\python\\python313\\site-packages (from pydantic[EmailStr]) (0.7.0)\n",
      "Requirement already satisfied: pydantic-core==2.33.2 in c:\\users\\bittuk\\appdata\\roaming\\python\\python313\\site-packages (from pydantic[EmailStr]) (2.33.2)\n",
      "Requirement already satisfied: typing-extensions>=4.12.2 in c:\\users\\bittuk\\appdata\\roaming\\python\\python313\\site-packages (from pydantic[EmailStr]) (4.13.2)\n",
      "Requirement already satisfied: typing-inspection>=0.4.0 in c:\\users\\bittuk\\appdata\\roaming\\python\\python313\\site-packages (from pydantic[EmailStr]) (0.4.1)\n"
     ]
    },
    {
     "name": "stderr",
     "output_type": "stream",
     "text": [
      "WARNING: pydantic 2.11.5 does not provide the extra 'emailstr'\n",
      "\n",
      "[notice] A new release of pip is available: 25.0.1 -> 25.1.1\n",
      "[notice] To update, run: C:\\Python313\\python.exe -m pip install --upgrade pip\n"
     ]
    }
   ],
   "source": [
    "!pip install pydantic[EmailStr]"
   ]
  },
  {
   "cell_type": "code",
   "execution_count": null,
   "id": "2c238d41",
   "metadata": {},
   "outputs": [
    {
     "ename": "ValidationError",
     "evalue": "1 validation error for Patient\nemail\n  Value error, Not a valid domain [type=value_error, input_value='abc@gmail.com', input_type=str]\n    For further information visit https://errors.pydantic.dev/2.11/v/value_error",
     "output_type": "error",
     "traceback": [
      "\u001b[31m---------------------------------------------------------------------------\u001b[39m",
      "\u001b[31mValidationError\u001b[39m                           Traceback (most recent call last)",
      "\u001b[36mCell\u001b[39m\u001b[36m \u001b[39m\u001b[32mIn[11]\u001b[39m\u001b[32m, line 38\u001b[39m\n\u001b[32m     34\u001b[39m     \u001b[38;5;28mprint\u001b[39m(patient.contact_details)\n\u001b[32m     36\u001b[39m patient_info = {\u001b[33m\"\u001b[39m\u001b[33mname\u001b[39m\u001b[33m\"\u001b[39m : \u001b[33m\"\u001b[39m\u001b[33mnitish\u001b[39m\u001b[33m\"\u001b[39m, \u001b[33m\"\u001b[39m\u001b[33memail\u001b[39m\u001b[33m\"\u001b[39m : \u001b[33m\"\u001b[39m\u001b[33mabc@gmail.com\u001b[39m\u001b[33m\"\u001b[39m, \u001b[33m\"\u001b[39m\u001b[33mage\u001b[39m\u001b[33m\"\u001b[39m : \u001b[32m22\u001b[39m, \u001b[33m\"\u001b[39m\u001b[33mweight\u001b[39m\u001b[33m\"\u001b[39m : \u001b[32m74\u001b[39m, \u001b[33m\"\u001b[39m\u001b[33mcontact_details\u001b[39m\u001b[33m\"\u001b[39m : {\u001b[33m\"\u001b[39m\u001b[33memail\u001b[39m\u001b[33m\"\u001b[39m : \u001b[33m\"\u001b[39m\u001b[33mabc@gmail.com\u001b[39m\u001b[33m\"\u001b[39m , \u001b[33m\"\u001b[39m\u001b[33mphone_no\u001b[39m\u001b[33m\"\u001b[39m : \u001b[33m\"\u001b[39m\u001b[33m8018830741\u001b[39m\u001b[33m\"\u001b[39m}}\n\u001b[32m---> \u001b[39m\u001b[32m38\u001b[39m patient_1 = \u001b[43mPatient\u001b[49m\u001b[43m(\u001b[49m\u001b[43m*\u001b[49m\u001b[43m*\u001b[49m\u001b[43mpatient_info\u001b[49m\u001b[43m)\u001b[49m\n\u001b[32m     40\u001b[39m get_details(patient_1)\n",
      "\u001b[36mFile \u001b[39m\u001b[32mc:\\Users\\bittuk\\AppData\\Local\\Programs\\Python\\Python312\\Lib\\site-packages\\pydantic\\main.py:253\u001b[39m, in \u001b[36mBaseModel.__init__\u001b[39m\u001b[34m(self, **data)\u001b[39m\n\u001b[32m    251\u001b[39m \u001b[38;5;66;03m# `__tracebackhide__` tells pytest and some other tools to omit this function from tracebacks\u001b[39;00m\n\u001b[32m    252\u001b[39m __tracebackhide__ = \u001b[38;5;28;01mTrue\u001b[39;00m\n\u001b[32m--> \u001b[39m\u001b[32m253\u001b[39m validated_self = \u001b[38;5;28;43mself\u001b[39;49m\u001b[43m.\u001b[49m\u001b[43m__pydantic_validator__\u001b[49m\u001b[43m.\u001b[49m\u001b[43mvalidate_python\u001b[49m\u001b[43m(\u001b[49m\u001b[43mdata\u001b[49m\u001b[43m,\u001b[49m\u001b[43m \u001b[49m\u001b[43mself_instance\u001b[49m\u001b[43m=\u001b[49m\u001b[38;5;28;43mself\u001b[39;49m\u001b[43m)\u001b[49m\n\u001b[32m    254\u001b[39m \u001b[38;5;28;01mif\u001b[39;00m \u001b[38;5;28mself\u001b[39m \u001b[38;5;129;01mis\u001b[39;00m \u001b[38;5;129;01mnot\u001b[39;00m validated_self:\n\u001b[32m    255\u001b[39m     warnings.warn(\n\u001b[32m    256\u001b[39m         \u001b[33m'\u001b[39m\u001b[33mA custom validator is returning a value other than `self`.\u001b[39m\u001b[38;5;130;01m\\n\u001b[39;00m\u001b[33m'\u001b[39m\n\u001b[32m    257\u001b[39m         \u001b[33m\"\u001b[39m\u001b[33mReturning anything other than `self` from a top level model validator isn\u001b[39m\u001b[33m'\u001b[39m\u001b[33mt supported when validating via `__init__`.\u001b[39m\u001b[38;5;130;01m\\n\u001b[39;00m\u001b[33m\"\u001b[39m\n\u001b[32m    258\u001b[39m         \u001b[33m'\u001b[39m\u001b[33mSee the `model_validator` docs (https://docs.pydantic.dev/latest/concepts/validators/#model-validators) for more details.\u001b[39m\u001b[33m'\u001b[39m,\n\u001b[32m    259\u001b[39m         stacklevel=\u001b[32m2\u001b[39m,\n\u001b[32m    260\u001b[39m     )\n",
      "\u001b[31mValidationError\u001b[39m: 1 validation error for Patient\nemail\n  Value error, Not a valid domain [type=value_error, input_value='abc@gmail.com', input_type=str]\n    For further information visit https://errors.pydantic.dev/2.11/v/value_error"
     ]
    }
   ],
   "source": [
    "# Using field validator for data validation  \n",
    "\n",
    "from pydantic import BaseModel, EmailStr, AnyUrl, field_validator\n",
    "from typing import List, Dict, Optional\n",
    "\n",
    "class Patient(BaseModel):\n",
    "    name : str\n",
    "    email : EmailStr\n",
    "    age: int\n",
    "    weight : int\n",
    "    married : bool = False\n",
    "    allergies : Optional[List[str]] = None\n",
    "    contact_details : Dict[str,str]\n",
    "\n",
    "    # We want to check if our email content @hdfc.com or not . \n",
    "    @field_validator('email') # We specify here in which parameter we want to apply field_validator.\n",
    "    @classmethod\n",
    "    def email_validator(cls,value): # Give class instance in first parameter and then next parameter will contain value of the email provided by the patient\n",
    "\n",
    "        valid_domains = ['hdfc.com','icici.com']\n",
    "\n",
    "        domain_value = value.split('@')[-1]\n",
    "        \n",
    "        if domain_value not in valid_domains:\n",
    "            raise ValueError('Not a valid domain')\n",
    "        \n",
    "        return value\n",
    "\n",
    "def get_details(patient : Patient):\n",
    "    print(patient.name)\n",
    "    print(patient.email)\n",
    "    print(patient.age)\n",
    "    print(patient.weight)\n",
    "    print(patient.married)\n",
    "    print(patient.allergies)\n",
    "    print(patient.contact_details)\n",
    "\n",
    "patient_info = {\"name\" : \"nitish\", \"email\" : \"abc@gmail.com\", \"age\" : 22, \"weight\" : 74, \"contact_details\" : {\"email\" : \"abc@gmail.com\" , \"phone_no\" : \"8018830741\"}}\n",
    "\n",
    "patient_1 = Patient(**patient_info)\n",
    "\n",
    "get_details(patient_1)"
   ]
  },
  {
   "cell_type": "markdown",
   "id": "cc76cfde",
   "metadata": {},
   "source": [
    "field_validator is a class method."
   ]
  },
  {
   "cell_type": "code",
   "execution_count": 12,
   "id": "b3c73888",
   "metadata": {},
   "outputs": [
    {
     "name": "stdout",
     "output_type": "stream",
     "text": [
      "nitish\n",
      "abc@hdfc.com\n",
      "22\n",
      "74\n",
      "False\n",
      "None\n",
      "{'email': 'abc@gmail.com', 'phone_no': '8018830741'}\n"
     ]
    }
   ],
   "source": [
    "patient_info = {\"name\" : \"nitish\", \"email\" : \"abc@hdfc.com\", \"age\" : 22, \"weight\" : 74, \"contact_details\" : {\"email\" : \"abc@gmail.com\" , \"phone_no\" : \"8018830741\"}}\n",
    "\n",
    "patient_1 = Patient(**patient_info)\n",
    "\n",
    "get_details(patient_1)"
   ]
  },
  {
   "cell_type": "code",
   "execution_count": 14,
   "id": "8146093a",
   "metadata": {},
   "outputs": [
    {
     "name": "stdout",
     "output_type": "stream",
     "text": [
      "NITISH\n",
      "abc@hdfc.com\n",
      "22\n",
      "74\n",
      "False\n",
      "None\n",
      "{'email': 'abc@gmail.com', 'phone_no': '8018830741'}\n"
     ]
    }
   ],
   "source": [
    "# Using field validator for data transformation\n",
    "\n",
    "from pydantic import BaseModel, EmailStr, AnyUrl, field_validator\n",
    "from typing import List, Dict, Optional\n",
    "\n",
    "class Patient(BaseModel):\n",
    "    name : str\n",
    "    email : EmailStr\n",
    "    age: int\n",
    "    weight : int\n",
    "    married : bool = False\n",
    "    allergies : Optional[List[str]] = None\n",
    "    contact_details : Dict[str,str]\n",
    "\n",
    "    # We want to check if our email content @hdfc.com or not . \n",
    "    @field_validator('email') # We specify here in which parameter we want to apply field_validator.\n",
    "    @classmethod\n",
    "    def email_validator(cls,value): # Give class instance in first parameter and then next parameter will contain value of the email provided by the patient\n",
    "\n",
    "        valid_domains = ['hdfc.com','icici.com']\n",
    "\n",
    "        domain_value = value.split('@')[-1]\n",
    "        \n",
    "        if domain_value not in valid_domains:\n",
    "            raise ValueError('Not a valid domain')\n",
    "        \n",
    "        return value\n",
    "    \n",
    "    @field_validator('name')\n",
    "    @classmethod\n",
    "    def transform_name(cls,value):\n",
    "        return value.upper()\n",
    "\n",
    "\n",
    "def get_details(patient : Patient):\n",
    "    print(patient.name)\n",
    "    print(patient.email)\n",
    "    print(patient.age)\n",
    "    print(patient.weight)\n",
    "    print(patient.married)\n",
    "    print(patient.allergies)\n",
    "    print(patient.contact_details)\n",
    "\n",
    "patient_info = {\"name\" : \"nitish\", \"email\" : \"abc@hdfc.com\", \"age\" : 22, \"weight\" : 74, \"contact_details\" : {\"email\" : \"abc@gmail.com\" , \"phone_no\" : \"8018830741\"}}\n",
    "\n",
    "patient_1 = Patient(**patient_info)\n",
    "\n",
    "get_details(patient_1)"
   ]
  },
  {
   "cell_type": "markdown",
   "id": "5afaf036",
   "metadata": {},
   "source": [
    "#### field_validator works in two mode :- <br>\n",
    "1, Before mode :- Before doing the type conversion, the value will be passed to the field_validator. <br>\n",
    "2, After mode :- Before doing the type conversion, the value will be passed to the field_validator. Default mode is after mode ."
   ]
  },
  {
   "cell_type": "code",
   "execution_count": null,
   "id": "68791537",
   "metadata": {},
   "outputs": [
    {
     "ename": "TypeError",
     "evalue": "'<' not supported between instances of 'int' and 'str'",
     "output_type": "error",
     "traceback": [
      "\u001b[31m---------------------------------------------------------------------------\u001b[39m",
      "\u001b[31mTypeError\u001b[39m                                 Traceback (most recent call last)",
      "\u001b[36mCell\u001b[39m\u001b[36m \u001b[39m\u001b[32mIn[15]\u001b[39m\u001b[32m, line 50\u001b[39m\n\u001b[32m     46\u001b[39m     \u001b[38;5;28mprint\u001b[39m(patient.contact_details)\n\u001b[32m     48\u001b[39m patient_info = {\u001b[33m\"\u001b[39m\u001b[33mname\u001b[39m\u001b[33m\"\u001b[39m : \u001b[33m\"\u001b[39m\u001b[33mnitish\u001b[39m\u001b[33m\"\u001b[39m, \u001b[33m\"\u001b[39m\u001b[33memail\u001b[39m\u001b[33m\"\u001b[39m : \u001b[33m\"\u001b[39m\u001b[33mabc@hdfc.com\u001b[39m\u001b[33m\"\u001b[39m, \u001b[33m\"\u001b[39m\u001b[33mage\u001b[39m\u001b[33m\"\u001b[39m : \u001b[33m'\u001b[39m\u001b[33m22\u001b[39m\u001b[33m'\u001b[39m, \u001b[33m\"\u001b[39m\u001b[33mweight\u001b[39m\u001b[33m\"\u001b[39m : \u001b[32m74\u001b[39m, \u001b[33m\"\u001b[39m\u001b[33mcontact_details\u001b[39m\u001b[33m\"\u001b[39m : {\u001b[33m\"\u001b[39m\u001b[33memail\u001b[39m\u001b[33m\"\u001b[39m : \u001b[33m\"\u001b[39m\u001b[33mabc@gmail.com\u001b[39m\u001b[33m\"\u001b[39m , \u001b[33m\"\u001b[39m\u001b[33mphone_no\u001b[39m\u001b[33m\"\u001b[39m : \u001b[33m\"\u001b[39m\u001b[33m8018830741\u001b[39m\u001b[33m\"\u001b[39m}}\n\u001b[32m---> \u001b[39m\u001b[32m50\u001b[39m patient_1 = \u001b[43mPatient\u001b[49m\u001b[43m(\u001b[49m\u001b[43m*\u001b[49m\u001b[43m*\u001b[49m\u001b[43mpatient_info\u001b[49m\u001b[43m)\u001b[49m\n\u001b[32m     52\u001b[39m get_details(patient_1)\n",
      "    \u001b[31m[... skipping hidden 1 frame]\u001b[39m\n",
      "\u001b[36mCell\u001b[39m\u001b[36m \u001b[39m\u001b[32mIn[15]\u001b[39m\u001b[32m, line 32\u001b[39m, in \u001b[36mPatient.transform_name\u001b[39m\u001b[34m(cls, value)\u001b[39m\n\u001b[32m     29\u001b[39m \u001b[38;5;129m@field_validator\u001b[39m(\u001b[33m'\u001b[39m\u001b[33mage\u001b[39m\u001b[33m'\u001b[39m,mode = \u001b[33m\"\u001b[39m\u001b[33mbefore\u001b[39m\u001b[33m\"\u001b[39m)\n\u001b[32m     30\u001b[39m \u001b[38;5;129m@classmethod\u001b[39m\n\u001b[32m     31\u001b[39m \u001b[38;5;28;01mdef\u001b[39;00m\u001b[38;5;250m \u001b[39m\u001b[34mtransform_name\u001b[39m(\u001b[38;5;28mcls\u001b[39m,value):\n\u001b[32m---> \u001b[39m\u001b[32m32\u001b[39m     \u001b[38;5;28;01mif\u001b[39;00m \u001b[32;43m0\u001b[39;49m\u001b[43m<\u001b[49m\u001b[43mvalue\u001b[49m\u001b[43m<\u001b[49m\u001b[43m \u001b[49m\u001b[32;43m100\u001b[39;49m:\n\u001b[32m     33\u001b[39m         \u001b[38;5;28;01mreturn\u001b[39;00m value\n\u001b[32m     34\u001b[39m     \u001b[38;5;28;01melse\u001b[39;00m:\n",
      "\u001b[31mTypeError\u001b[39m: '<' not supported between instances of 'int' and 'str'"
     ]
    }
   ],
   "source": [
    "# Using mode = before\n",
    "\n",
    "from pydantic import BaseModel, EmailStr, AnyUrl, field_validator\n",
    "from typing import List, Dict, Optional\n",
    "\n",
    "class Patient(BaseModel):\n",
    "    name : str\n",
    "    email : EmailStr\n",
    "    age: int\n",
    "    weight : int\n",
    "    married : bool = False\n",
    "    allergies : Optional[List[str]] = None\n",
    "    contact_details : Dict[str,str]\n",
    "\n",
    "    # We want to check if our email content @hdfc.com or not . \n",
    "    @field_validator('email') # We specify here in which parameter we want to apply field_validator.\n",
    "    @classmethod\n",
    "    def email_validator(cls,value): # Give class instance in first parameter and then next parameter will contain value of the email provided by the patient\n",
    "\n",
    "        valid_domains = ['hdfc.com','icici.com']\n",
    "\n",
    "        domain_value = value.split('@')[-1]\n",
    "        \n",
    "        if domain_value not in valid_domains:\n",
    "            raise ValueError('Not a valid domain')\n",
    "        \n",
    "        return value\n",
    "    \n",
    "    @field_validator('age',mode = \"before\")\n",
    "    @classmethod\n",
    "    def transform_name(cls,value):\n",
    "        if 0<value< 100:\n",
    "            return value\n",
    "        else:\n",
    "            raise ValueError('Age should be in between 0 and 100')\n",
    "        \n",
    "\n",
    "\n",
    "def get_details(patient : Patient):\n",
    "    print(patient.name)\n",
    "    print(patient.email)\n",
    "    print(patient.age)\n",
    "    print(patient.weight)\n",
    "    print(patient.married)\n",
    "    print(patient.allergies)\n",
    "    print(patient.contact_details)\n",
    "\n",
    "patient_info = {\"name\" : \"nitish\", \"email\" : \"abc@hdfc.com\", \"age\" : '22', \"weight\" : 74, \"contact_details\" : {\"email\" : \"abc@gmail.com\" , \"phone_no\" : \"8018830741\"}}\n",
    "\n",
    "patient_1 = Patient(**patient_info)\n",
    "\n",
    "get_details(patient_1)"
   ]
  },
  {
   "cell_type": "code",
   "execution_count": null,
   "id": "b62bc559",
   "metadata": {},
   "outputs": [
    {
     "name": "stdout",
     "output_type": "stream",
     "text": [
      "nitish\n",
      "abc@hdfc.com\n",
      "22\n",
      "74\n",
      "False\n",
      "None\n",
      "{'email': 'abc@gmail.com', 'phone_no': '8018830741'}\n"
     ]
    }
   ],
   "source": [
    "# Using mode = after\n",
    "\n",
    "from pydantic import BaseModel, EmailStr, AnyUrl, field_validator\n",
    "from typing import List, Dict, Optional\n",
    "\n",
    "class Patient(BaseModel):\n",
    "    name : str\n",
    "    email : EmailStr\n",
    "    age: int\n",
    "    weight : int\n",
    "    married : bool = False\n",
    "    allergies : Optional[List[str]] = None\n",
    "    contact_details : Dict[str,str]\n",
    "\n",
    "    # We want to check if our email content @hdfc.com or not . \n",
    "    @field_validator('email') # We specify here in which parameter we want to apply field_validator.\n",
    "    @classmethod\n",
    "    def email_validator(cls,value): # Give class instance in first parameter and then next parameter will contain value of the email provided by the patient\n",
    "\n",
    "        valid_domains = ['hdfc.com','icici.com']\n",
    "\n",
    "        domain_value = value.split('@')[-1]\n",
    "        \n",
    "        if domain_value not in valid_domains:\n",
    "            raise ValueError('Not a valid domain')\n",
    "        \n",
    "        return value\n",
    "    \n",
    "    @field_validator('age',mode = \"after\")\n",
    "    @classmethod\n",
    "    def transform_name(cls,value):\n",
    "        if 0<value< 100:\n",
    "            return value\n",
    "        else:\n",
    "            raise ValueError('Age should be in between 0 and 100')\n",
    "        \n",
    "\n",
    "\n",
    "def get_details(patient : Patient):\n",
    "    print(patient.name)\n",
    "    print(patient.email)\n",
    "    print(patient.age)\n",
    "    print(patient.weight)\n",
    "    print(patient.married)\n",
    "    print(patient.allergies)\n",
    "    print(patient.contact_details)\n",
    "\n",
    "patient_info = {\"name\" : \"nitish\", \"email\" : \"abc@hdfc.com\", \"age\" : '22', \"weight\" : 74, \"contact_details\" : {\"email\" : \"abc@gmail.com\" , \"phone_no\" : \"8018830741\"}}\n",
    "\n",
    "patient_1 = Patient(**patient_info)\n",
    "\n",
    "get_details(patient_1)"
   ]
  },
  {
   "cell_type": "code",
   "execution_count": 17,
   "id": "6203bb32",
   "metadata": {},
   "outputs": [
    {
     "name": "stdout",
     "output_type": "stream",
     "text": [
      "nitish\n",
      "abc@hdfc.com\n",
      "22\n",
      "74\n",
      "False\n",
      "None\n",
      "{'email': 'abc@gmail.com', 'phone_no': '8018830741'}\n"
     ]
    }
   ],
   "source": [
    "# Default mode is after mode.\n",
    "\n",
    "from pydantic import BaseModel, EmailStr, AnyUrl, field_validator\n",
    "from typing import List, Dict, Optional\n",
    "\n",
    "class Patient(BaseModel):\n",
    "    name : str\n",
    "    email : EmailStr\n",
    "    age: int\n",
    "    weight : int\n",
    "    married : bool = False\n",
    "    allergies : Optional[List[str]] = None\n",
    "    contact_details : Dict[str,str]\n",
    "\n",
    "    # We want to check if our email content @hdfc.com or not . \n",
    "    @field_validator('email') # We specify here in which parameter we want to apply field_validator.\n",
    "    @classmethod\n",
    "    def email_validator(cls,value): # Give class instance in first parameter and then next parameter will contain value of the email provided by the patient\n",
    "\n",
    "        valid_domains = ['hdfc.com','icici.com']\n",
    "\n",
    "        domain_value = value.split('@')[-1]\n",
    "        \n",
    "        if domain_value not in valid_domains:\n",
    "            raise ValueError('Not a valid domain')\n",
    "        \n",
    "        return value\n",
    "    \n",
    "    @field_validator('age')\n",
    "    @classmethod\n",
    "    def transform_name(cls,value):\n",
    "        if 0<value< 100:\n",
    "            return value\n",
    "        else:\n",
    "            raise ValueError('Age should be in between 0 and 100')\n",
    "        \n",
    "\n",
    "\n",
    "def get_details(patient : Patient):\n",
    "    print(patient.name)\n",
    "    print(patient.email)\n",
    "    print(patient.age)\n",
    "    print(patient.weight)\n",
    "    print(patient.married)\n",
    "    print(patient.allergies)\n",
    "    print(patient.contact_details)\n",
    "\n",
    "patient_info = {\"name\" : \"nitish\", \"email\" : \"abc@hdfc.com\", \"age\" : '22', \"weight\" : 74, \"contact_details\" : {\"email\" : \"abc@gmail.com\" , \"phone_no\" : \"8018830741\"}}\n",
    "\n",
    "patient_1 = Patient(**patient_info)\n",
    "\n",
    "get_details(patient_1)"
   ]
  },
  {
   "cell_type": "markdown",
   "id": "aa8fff14",
   "metadata": {},
   "source": [
    "#### Note :- \n",
    "field_validator is only use to do custom validation for  only one variable. To do custome validation for  multiple variables, use model_validator ."
   ]
  },
  {
   "cell_type": "markdown",
   "id": "d064509a",
   "metadata": {},
   "source": []
  }
 ],
 "metadata": {
  "kernelspec": {
   "display_name": "Python 3",
   "language": "python",
   "name": "python3"
  },
  "language_info": {
   "codemirror_mode": {
    "name": "ipython",
    "version": 3
   },
   "file_extension": ".py",
   "mimetype": "text/x-python",
   "name": "python",
   "nbconvert_exporter": "python",
   "pygments_lexer": "ipython3",
   "version": "3.12.10"
  }
 },
 "nbformat": 4,
 "nbformat_minor": 5
}
