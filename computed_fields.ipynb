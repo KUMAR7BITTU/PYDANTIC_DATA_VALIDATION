{
 "cells": [
  {
   "cell_type": "markdown",
   "id": "48d19c65",
   "metadata": {},
   "source": [
    "# Computed_fields "
   ]
  },
  {
   "cell_type": "markdown",
   "id": "fe391029",
   "metadata": {},
   "source": [
    "### computed_filed :- \n",
    "computed_filed is such a field in our pydantic model whose value is not provided by the user. We use rest of the available field's value to calculate the value of that field ."
   ]
  },
  {
   "cell_type": "code",
   "execution_count": 3,
   "id": "eaeedf72",
   "metadata": {},
   "outputs": [
    {
     "name": "stdout",
     "output_type": "stream",
     "text": [
      "nitish\n",
      "abc@hdfc.com\n",
      "22\n",
      "74.0\n",
      "12.2\n",
      "0.5\n",
      "False\n",
      "Updated\n"
     ]
    }
   ],
   "source": [
    "\n",
    "from pydantic import BaseModel, EmailStr, AnyUrl, field_validator, model_validator,computed_field\n",
    "from typing import List, Dict, Optional\n",
    "\n",
    "class Patient(BaseModel):\n",
    "    name : str\n",
    "    email : EmailStr\n",
    "    age: int\n",
    "    weight : float\n",
    "    height : float\n",
    "    married : bool = False\n",
    "    allergies : Optional[List[str]] = None\n",
    "    contact_details : Dict[str,str]\n",
    "\n",
    "    @computed_field\n",
    "    @property\n",
    "    def bmi(self) -> float:\n",
    "        b = round(self.weight / (self.height**2),2)\n",
    "        return b\n",
    "\n",
    "def get_details(patient : Patient):\n",
    "    print(patient.name)\n",
    "    print(patient.email)\n",
    "    print(patient.age)\n",
    "    print(patient.weight)\n",
    "    print(patient.height)\n",
    "    print(patient.bmi)\n",
    "    print(patient.married)\n",
    "    print('Updated')\n",
    "\n",
    "patient_info = {\"name\" : \"nitish\", \"email\" : \"abc@hdfc.com\", \"age\" : '22', \"weight\" : 74,'height' : 12.2, \"contact_details\" : {\"email\" : \"abc@gmail.com\" , \"phone_no\" : \"8018830741\"}}\n",
    "\n",
    "patient_1 = Patient(**patient_info)\n",
    "\n",
    "get_details(patient_1)"
   ]
  },
  {
   "cell_type": "code",
   "execution_count": null,
   "id": "fb99afb4",
   "metadata": {},
   "outputs": [],
   "source": []
  }
 ],
 "metadata": {
  "kernelspec": {
   "display_name": "Python 3",
   "language": "python",
   "name": "python3"
  },
  "language_info": {
   "codemirror_mode": {
    "name": "ipython",
    "version": 3
   },
   "file_extension": ".py",
   "mimetype": "text/x-python",
   "name": "python",
   "nbconvert_exporter": "python",
   "pygments_lexer": "ipython3",
   "version": "3.12.10"
  }
 },
 "nbformat": 4,
 "nbformat_minor": 5
}
