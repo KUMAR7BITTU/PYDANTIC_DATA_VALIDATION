{
 "cells": [
  {
   "cell_type": "markdown",
   "id": "f8c3fea0",
   "metadata": {},
   "source": [
    "# Model_validator"
   ]
  },
  {
   "cell_type": "markdown",
   "id": "95c1ee06",
   "metadata": {},
   "source": [
    "### model_validator :- \n",
    " To do custome validation for  multiple variables, use model_validator .\n",
    "\n",
    " Model validator validate on whole model.\n",
    "         "
   ]
  },
  {
   "cell_type": "code",
   "execution_count": 1,
   "id": "3d6049b5",
   "metadata": {},
   "outputs": [
    {
     "name": "stdout",
     "output_type": "stream",
     "text": [
      "nitish\n",
      "abc@hdfc.com\n",
      "22\n",
      "74\n",
      "False\n",
      "None\n",
      "{'email': 'abc@gmail.com', 'phone_no': '8018830741'}\n"
     ]
    }
   ],
   "source": [
    "\n",
    "from pydantic import BaseModel, EmailStr, AnyUrl, field_validator, model_validator\n",
    "from typing import List, Dict, Optional\n",
    "\n",
    "class Patient(BaseModel):\n",
    "    name : str\n",
    "    email : EmailStr\n",
    "    age: int\n",
    "    weight : int\n",
    "    married : bool = False\n",
    "    allergies : Optional[List[str]] = None\n",
    "    contact_details : Dict[str,str]\n",
    "\n",
    "    @model_validator(mode=\"after\") # We don't specify any particular variable name here because here we are working on every variable of the model . So we specify one mode here.\n",
    "    def validate_emergency_contact(cls , model): # Here we only pass the class instance and model . Because we can get every variable from that model.\n",
    "        if model.age > 60 and 'emergency' not in model.contact_details:\n",
    "            raise ValueError('Patients older than 60 must have contact details.')\n",
    "        return model\n",
    "\n",
    "        \n",
    "\n",
    "\n",
    "def get_details(patient : Patient):\n",
    "    print(patient.name)\n",
    "    print(patient.email)\n",
    "    print(patient.age)\n",
    "    print(patient.weight)\n",
    "    print(patient.married)\n",
    "    print(patient.allergies)\n",
    "    print(patient.contact_details)\n",
    "\n",
    "patient_info = {\"name\" : \"nitish\", \"email\" : \"abc@hdfc.com\", \"age\" : '22', \"weight\" : 74, \"contact_details\" : {\"email\" : \"abc@gmail.com\" , \"phone_no\" : \"8018830741\"}}\n",
    "\n",
    "patient_1 = Patient(**patient_info)\n",
    "\n",
    "get_details(patient_1)"
   ]
  },
  {
   "cell_type": "code",
   "execution_count": 2,
   "id": "73f2661e",
   "metadata": {},
   "outputs": [
    {
     "ename": "ValidationError",
     "evalue": "1 validation error for Patient\n  Value error, Patients older than 60 must have contact details. [type=value_error, input_value={'name': 'nitish', 'email...hone_no': '8018830741'}}, input_type=dict]\n    For further information visit https://errors.pydantic.dev/2.11/v/value_error",
     "output_type": "error",
     "traceback": [
      "\u001b[31m---------------------------------------------------------------------------\u001b[39m",
      "\u001b[31mValidationError\u001b[39m                           Traceback (most recent call last)",
      "\u001b[36mCell\u001b[39m\u001b[36m \u001b[39m\u001b[32mIn[2]\u001b[39m\u001b[32m, line 3\u001b[39m\n\u001b[32m      1\u001b[39m patient_info = {\u001b[33m\"\u001b[39m\u001b[33mname\u001b[39m\u001b[33m\"\u001b[39m : \u001b[33m\"\u001b[39m\u001b[33mnitish\u001b[39m\u001b[33m\"\u001b[39m, \u001b[33m\"\u001b[39m\u001b[33memail\u001b[39m\u001b[33m\"\u001b[39m : \u001b[33m\"\u001b[39m\u001b[33mabc@hdfc.com\u001b[39m\u001b[33m\"\u001b[39m, \u001b[33m\"\u001b[39m\u001b[33mage\u001b[39m\u001b[33m\"\u001b[39m : \u001b[33m'\u001b[39m\u001b[33m65\u001b[39m\u001b[33m'\u001b[39m, \u001b[33m\"\u001b[39m\u001b[33mweight\u001b[39m\u001b[33m\"\u001b[39m : \u001b[32m74\u001b[39m, \u001b[33m\"\u001b[39m\u001b[33mcontact_details\u001b[39m\u001b[33m\"\u001b[39m : {\u001b[33m\"\u001b[39m\u001b[33memail\u001b[39m\u001b[33m\"\u001b[39m : \u001b[33m\"\u001b[39m\u001b[33mabc@gmail.com\u001b[39m\u001b[33m\"\u001b[39m , \u001b[33m\"\u001b[39m\u001b[33mphone_no\u001b[39m\u001b[33m\"\u001b[39m : \u001b[33m\"\u001b[39m\u001b[33m8018830741\u001b[39m\u001b[33m\"\u001b[39m}}\n\u001b[32m----> \u001b[39m\u001b[32m3\u001b[39m patient_1 = \u001b[43mPatient\u001b[49m\u001b[43m(\u001b[49m\u001b[43m*\u001b[49m\u001b[43m*\u001b[49m\u001b[43mpatient_info\u001b[49m\u001b[43m)\u001b[49m\n\u001b[32m      5\u001b[39m get_details(patient_1)\n",
      "\u001b[36mFile \u001b[39m\u001b[32mc:\\Users\\bittuk\\AppData\\Local\\Programs\\Python\\Python312\\Lib\\site-packages\\pydantic\\main.py:253\u001b[39m, in \u001b[36mBaseModel.__init__\u001b[39m\u001b[34m(self, **data)\u001b[39m\n\u001b[32m    251\u001b[39m \u001b[38;5;66;03m# `__tracebackhide__` tells pytest and some other tools to omit this function from tracebacks\u001b[39;00m\n\u001b[32m    252\u001b[39m __tracebackhide__ = \u001b[38;5;28;01mTrue\u001b[39;00m\n\u001b[32m--> \u001b[39m\u001b[32m253\u001b[39m validated_self = \u001b[38;5;28;43mself\u001b[39;49m\u001b[43m.\u001b[49m\u001b[43m__pydantic_validator__\u001b[49m\u001b[43m.\u001b[49m\u001b[43mvalidate_python\u001b[49m\u001b[43m(\u001b[49m\u001b[43mdata\u001b[49m\u001b[43m,\u001b[49m\u001b[43m \u001b[49m\u001b[43mself_instance\u001b[49m\u001b[43m=\u001b[49m\u001b[38;5;28;43mself\u001b[39;49m\u001b[43m)\u001b[49m\n\u001b[32m    254\u001b[39m \u001b[38;5;28;01mif\u001b[39;00m \u001b[38;5;28mself\u001b[39m \u001b[38;5;129;01mis\u001b[39;00m \u001b[38;5;129;01mnot\u001b[39;00m validated_self:\n\u001b[32m    255\u001b[39m     warnings.warn(\n\u001b[32m    256\u001b[39m         \u001b[33m'\u001b[39m\u001b[33mA custom validator is returning a value other than `self`.\u001b[39m\u001b[38;5;130;01m\\n\u001b[39;00m\u001b[33m'\u001b[39m\n\u001b[32m    257\u001b[39m         \u001b[33m\"\u001b[39m\u001b[33mReturning anything other than `self` from a top level model validator isn\u001b[39m\u001b[33m'\u001b[39m\u001b[33mt supported when validating via `__init__`.\u001b[39m\u001b[38;5;130;01m\\n\u001b[39;00m\u001b[33m\"\u001b[39m\n\u001b[32m    258\u001b[39m         \u001b[33m'\u001b[39m\u001b[33mSee the `model_validator` docs (https://docs.pydantic.dev/latest/concepts/validators/#model-validators) for more details.\u001b[39m\u001b[33m'\u001b[39m,\n\u001b[32m    259\u001b[39m         stacklevel=\u001b[32m2\u001b[39m,\n\u001b[32m    260\u001b[39m     )\n",
      "\u001b[31mValidationError\u001b[39m: 1 validation error for Patient\n  Value error, Patients older than 60 must have contact details. [type=value_error, input_value={'name': 'nitish', 'email...hone_no': '8018830741'}}, input_type=dict]\n    For further information visit https://errors.pydantic.dev/2.11/v/value_error"
     ]
    }
   ],
   "source": [
    "patient_info = {\"name\" : \"nitish\", \"email\" : \"abc@hdfc.com\", \"age\" : '65', \"weight\" : 74, \"contact_details\" : {\"email\" : \"abc@gmail.com\" , \"phone_no\" : \"8018830741\"}}\n",
    "\n",
    "patient_1 = Patient(**patient_info)\n",
    "\n",
    "get_details(patient_1)"
   ]
  },
  {
   "cell_type": "code",
   "execution_count": 3,
   "id": "6a8cf7c1",
   "metadata": {},
   "outputs": [
    {
     "name": "stdout",
     "output_type": "stream",
     "text": [
      "nitish\n",
      "abc@hdfc.com\n",
      "65\n",
      "74\n",
      "False\n",
      "None\n",
      "{'email': 'abc@gmail.com', 'phone_no': '8018830741', 'emergency': '1383272391'}\n"
     ]
    }
   ],
   "source": [
    "patient_info = {\"name\" : \"nitish\", \"email\" : \"abc@hdfc.com\", \"age\" : '65', \"weight\" : 74, \"contact_details\" : {\"email\" : \"abc@gmail.com\" , \"phone_no\" : \"8018830741\", \"emergency\" : \"1383272391\"}}\n",
    "\n",
    "patient_1 = Patient(**patient_info)\n",
    "\n",
    "get_details(patient_1)"
   ]
  },
  {
   "cell_type": "code",
   "execution_count": null,
   "id": "86c4cc56",
   "metadata": {},
   "outputs": [],
   "source": []
  }
 ],
 "metadata": {
  "kernelspec": {
   "display_name": "Python 3",
   "language": "python",
   "name": "python3"
  },
  "language_info": {
   "codemirror_mode": {
    "name": "ipython",
    "version": 3
   },
   "file_extension": ".py",
   "mimetype": "text/x-python",
   "name": "python",
   "nbconvert_exporter": "python",
   "pygments_lexer": "ipython3",
   "version": "3.12.10"
  }
 },
 "nbformat": 4,
 "nbformat_minor": 5
}
