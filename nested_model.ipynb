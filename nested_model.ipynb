{
 "cells": [
  {
   "cell_type": "markdown",
   "id": "3878db88",
   "metadata": {},
   "source": [
    "# Nested models "
   ]
  },
  {
   "cell_type": "markdown",
   "id": "20ff890a",
   "metadata": {},
   "source": [
    "### nested_model :- \n",
    "If we are using a model as field in another model then we call it nested model ."
   ]
  },
  {
   "cell_type": "code",
   "execution_count": 1,
   "id": "6b382d43",
   "metadata": {},
   "outputs": [
    {
     "name": "stdout",
     "output_type": "stream",
     "text": [
      "Requirement already satisfied: pydantic in c:\\users\\bittuk\\appdata\\local\\programs\\python\\python312\\lib\\site-packages (2.11.5)\n",
      "Requirement already satisfied: annotated-types>=0.6.0 in c:\\users\\bittuk\\appdata\\local\\programs\\python\\python312\\lib\\site-packages (from pydantic) (0.7.0)\n",
      "Requirement already satisfied: pydantic-core==2.33.2 in c:\\users\\bittuk\\appdata\\local\\programs\\python\\python312\\lib\\site-packages (from pydantic) (2.33.2)\n",
      "Requirement already satisfied: typing-extensions>=4.12.2 in c:\\users\\bittuk\\appdata\\local\\programs\\python\\python312\\lib\\site-packages (from pydantic) (4.13.2)\n",
      "Requirement already satisfied: typing-inspection>=0.4.0 in c:\\users\\bittuk\\appdata\\local\\programs\\python\\python312\\lib\\site-packages (from pydantic) (0.4.1)\n",
      "Note: you may need to restart the kernel to use updated packages.\n"
     ]
    },
    {
     "name": "stderr",
     "output_type": "stream",
     "text": [
      "\n",
      "[notice] A new release of pip is available: 25.0.1 -> 25.1.1\n",
      "[notice] To update, run: python.exe -m pip install --upgrade pip\n"
     ]
    }
   ],
   "source": [
    "pip install pydantic"
   ]
  },
  {
   "cell_type": "code",
   "execution_count": 3,
   "id": "d9e096e2",
   "metadata": {},
   "outputs": [
    {
     "name": "stdout",
     "output_type": "stream",
     "text": [
      "name='nitish' gender='male' age=28 address=Address(city='gurgaon', state='haryana', pin=122021)\n",
      "nitish\n",
      "gurgaon\n",
      "122021\n"
     ]
    }
   ],
   "source": [
    "from pydantic import BaseModel\n",
    "\n",
    "class Address(BaseModel):\n",
    "    city : str\n",
    "    state : str\n",
    "    pin : int\n",
    "\n",
    "class Patient(BaseModel):\n",
    "    name : str\n",
    "    gender : str\n",
    "    age : int\n",
    "    address : Address\n",
    "\n",
    "address_info = {\"city\" : \"gurgaon\", \"state\" : \"haryana\", \"pin\" : \"122021\"}\n",
    "address1 = Address(**address_info)\n",
    "\n",
    "patient_info = {\"name\" : \"nitish\", \"gender\" : \"male\", \"age\" : 28, \"address\" : address1}\n",
    "\n",
    "patient1 = Patient(**patient_info)\n",
    "print(patient1)\n",
    "print(patient1.name)\n",
    "print(patient1.address.city)\n",
    "print(patient1.address.pin)"
   ]
  },
  {
   "cell_type": "markdown",
   "id": "b5aa7cc9",
   "metadata": {},
   "source": [
    "1, Better organization of related data (e.g., vitals, address, insurance) <br>\n",
    "\n",
    "2, Reusability : Use vitals in multiple models (e.g., Patient, MedicalRecord) <br>\n",
    "\n",
    "3, Readability : Easier for developers and API consumers to understand <br>\n",
    "\n",
    "4, Validation : Nested models are validated automatically-no extra work needed <br>"
   ]
  }
 ],
 "metadata": {
  "kernelspec": {
   "display_name": "Python 3",
   "language": "python",
   "name": "python3"
  },
  "language_info": {
   "codemirror_mode": {
    "name": "ipython",
    "version": 3
   },
   "file_extension": ".py",
   "mimetype": "text/x-python",
   "name": "python",
   "nbconvert_exporter": "python",
   "pygments_lexer": "ipython3",
   "version": "3.12.10"
  }
 },
 "nbformat": 4,
 "nbformat_minor": 5
}
