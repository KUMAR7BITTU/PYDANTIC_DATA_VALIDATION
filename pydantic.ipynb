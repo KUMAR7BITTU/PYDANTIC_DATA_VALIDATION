{
 "cells": [
  {
   "cell_type": "markdown",
   "id": "7c9fa0ec",
   "metadata": {},
   "source": [
    "# Pydantic | Data Validation in Python"
   ]
  },
  {
   "cell_type": "markdown",
   "id": "c14116ab",
   "metadata": {},
   "source": [
    "Pydantic is very important library of python with the of which you can perform Data Validation. Python doesn't have static type concept rather it has dynamic type concept means in python you can store a integer in a variable and in that variable you can also store some string value.\n",
    "\n",
    "With the help of pydantic we can perform type validation and data validation also. It helps us to build model and if we have a very complex data then we can easily structure it."
   ]
  },
  {
   "cell_type": "markdown",
   "id": "314aabd8",
   "metadata": {},
   "source": [
    "### Why ?\n",
    "Pydantic solve two major problems :-"
   ]
  },
  {
   "cell_type": "markdown",
   "id": "f5373f04",
   "metadata": {},
   "source": [
    "First problem is Type Validation :- "
   ]
  },
  {
   "cell_type": "code",
   "execution_count": 4,
   "id": "f8714dfa",
   "metadata": {},
   "outputs": [
    {
     "name": "stdout",
     "output_type": "stream",
     "text": [
      "NITISH\n",
      "THIRTY\n",
      "Inserted into database\n"
     ]
    }
   ],
   "source": [
    "def insert_patient_data(name,age):\n",
    "    print(name)\n",
    "    print(age)\n",
    "    print(\"Inserted into database\")\n",
    "\n",
    "insert_patient_data('NITISH','THIRTY')"
   ]
  },
  {
   "cell_type": "markdown",
   "id": "d6aefdbe",
   "metadata": {},
   "source": [
    "Here we can insert string in age instead of integer. We will not get error also. Because python except dynamic typing instead of static typing. So we have to define a type to stop that."
   ]
  },
  {
   "cell_type": "code",
   "execution_count": 5,
   "id": "b5ea3a8e",
   "metadata": {},
   "outputs": [
    {
     "name": "stdout",
     "output_type": "stream",
     "text": [
      "NITISH\n",
      "30\n",
      "Inserted into database\n"
     ]
    }
   ],
   "source": [
    "# We can use type hinting to give the hint to the programmer.\n",
    "def insert_patient_data_1(name : str,age : int):\n",
    "    print(name)\n",
    "    print(age)\n",
    "    print(\"Inserted into database\")\n",
    "\n",
    "insert_patient_data_1('NITISH',30)"
   ]
  },
  {
   "cell_type": "code",
   "execution_count": 6,
   "id": "31e81533",
   "metadata": {},
   "outputs": [
    {
     "name": "stdout",
     "output_type": "stream",
     "text": [
      "NITISH\n",
      "THIRTY\n",
      "Inserted into database\n"
     ]
    }
   ],
   "source": [
    "insert_patient_data_1('NITISH','THIRTY')"
   ]
  },
  {
   "cell_type": "markdown",
   "id": "6d7a2f43",
   "metadata": {},
   "source": [
    "Still By doing typing hinting , we can give string in age . It will not throw any error. Type validation is not strong in python ."
   ]
  },
  {
   "cell_type": "markdown",
   "id": "58ee955b",
   "metadata": {},
   "source": [
    "But we can do it manually also."
   ]
  },
  {
   "cell_type": "code",
   "execution_count": 7,
   "id": "08474785",
   "metadata": {},
   "outputs": [
    {
     "ename": "TypeError",
     "evalue": "Incorrect data type",
     "output_type": "error",
     "traceback": [
      "\u001b[31m---------------------------------------------------------------------------\u001b[39m",
      "\u001b[31mTypeError\u001b[39m                                 Traceback (most recent call last)",
      "\u001b[36mCell\u001b[39m\u001b[36m \u001b[39m\u001b[32mIn[7]\u001b[39m\u001b[32m, line 11\u001b[39m\n\u001b[32m      7\u001b[39m     \u001b[38;5;28;01melse\u001b[39;00m:\n\u001b[32m      8\u001b[39m         \u001b[38;5;28;01mraise\u001b[39;00m \u001b[38;5;167;01mTypeError\u001b[39;00m(\u001b[33m'\u001b[39m\u001b[33mIncorrect data type\u001b[39m\u001b[33m'\u001b[39m)\n\u001b[32m---> \u001b[39m\u001b[32m11\u001b[39m \u001b[43minsert_patient_data_2\u001b[49m\u001b[43m(\u001b[49m\u001b[33;43m'\u001b[39;49m\u001b[33;43mNITISH\u001b[39;49m\u001b[33;43m'\u001b[39;49m\u001b[43m,\u001b[49m\u001b[33;43m'\u001b[39;49m\u001b[33;43mThirty\u001b[39;49m\u001b[33;43m'\u001b[39;49m\u001b[43m)\u001b[49m\n",
      "\u001b[36mCell\u001b[39m\u001b[36m \u001b[39m\u001b[32mIn[7]\u001b[39m\u001b[32m, line 8\u001b[39m, in \u001b[36minsert_patient_data_2\u001b[39m\u001b[34m(name, age)\u001b[39m\n\u001b[32m      6\u001b[39m     \u001b[38;5;28mprint\u001b[39m(\u001b[33m\"\u001b[39m\u001b[33mInserted into database\u001b[39m\u001b[33m\"\u001b[39m)\n\u001b[32m      7\u001b[39m \u001b[38;5;28;01melse\u001b[39;00m:\n\u001b[32m----> \u001b[39m\u001b[32m8\u001b[39m     \u001b[38;5;28;01mraise\u001b[39;00m \u001b[38;5;167;01mTypeError\u001b[39;00m(\u001b[33m'\u001b[39m\u001b[33mIncorrect data type\u001b[39m\u001b[33m'\u001b[39m)\n",
      "\u001b[31mTypeError\u001b[39m: Incorrect data type"
     ]
    }
   ],
   "source": [
    "def insert_patient_data_2(name : str, age : int):\n",
    "\n",
    "    if type(name) == str and type(age) == int:\n",
    "        print(name)\n",
    "        print(age)\n",
    "        print(\"Inserted into database\")\n",
    "    else:\n",
    "        raise TypeError('Incorrect data type')\n",
    "    \n",
    "\n",
    "insert_patient_data_2('NITISH','Thirty')"
   ]
  },
  {
   "cell_type": "code",
   "execution_count": 8,
   "id": "98b33339",
   "metadata": {},
   "outputs": [
    {
     "name": "stdout",
     "output_type": "stream",
     "text": [
      "NITISH\n",
      "30\n",
      "Inserted into database\n"
     ]
    }
   ],
   "source": [
    "insert_patient_data_2(\"NITISH\",30)"
   ]
  },
  {
   "cell_type": "markdown",
   "id": "8c2c9fc2",
   "metadata": {},
   "source": [
    "But this method is not scalable."
   ]
  },
  {
   "cell_type": "code",
   "execution_count": 9,
   "id": "fd4c4a64",
   "metadata": {},
   "outputs": [],
   "source": [
    "# Because\n",
    "\n",
    "def insert_patient_data_2(name : str, age : int):\n",
    "\n",
    "    if type(name) == str and type(age) == int:\n",
    "        print(name)\n",
    "        print(age)\n",
    "        print(\"Inserted into database\")\n",
    "    else:\n",
    "        raise TypeError('Incorrect data type')\n",
    "    \n",
    "def update_patient_data_2(name : str, age : int):\n",
    "\n",
    "    if type(name) == str and type(age) == int:\n",
    "        print(name)\n",
    "        print(age)\n",
    "        print(\"Updated into database\")\n",
    "    else:\n",
    "        raise TypeError(\"Incorrect data type\")"
   ]
  },
  {
   "cell_type": "markdown",
   "id": "fecc85fa",
   "metadata": {},
   "source": [
    "For update_patient_data_2() also we have to write the same line of codes as previous function. So, we are writing same lines of codes in both the function manully which is not good. If similar 10 more functions will be there then we have to write the same codes for all. If any new variable will be included then we have to include that variable in all the function. So, it is a hectic task."
   ]
  },
  {
   "cell_type": "markdown",
   "id": "a6bacbd5",
   "metadata": {},
   "source": [
    "Second Problem is Data Validation :-"
   ]
  },
  {
   "cell_type": "code",
   "execution_count": 10,
   "id": "37ee62ae",
   "metadata": {},
   "outputs": [
    {
     "ename": "ValueError",
     "evalue": "Age can't be negative.",
     "output_type": "error",
     "traceback": [
      "\u001b[31m---------------------------------------------------------------------------\u001b[39m",
      "\u001b[31mValueError\u001b[39m                                Traceback (most recent call last)",
      "\u001b[36mCell\u001b[39m\u001b[36m \u001b[39m\u001b[32mIn[10]\u001b[39m\u001b[32m, line 15\u001b[39m\n\u001b[32m     12\u001b[39m     \u001b[38;5;28;01melse\u001b[39;00m:\n\u001b[32m     13\u001b[39m         \u001b[38;5;28;01mraise\u001b[39;00m \u001b[38;5;167;01mTypeError\u001b[39;00m(\u001b[33m\"\u001b[39m\u001b[33mIncorrect data type\u001b[39m\u001b[33m\"\u001b[39m)\n\u001b[32m---> \u001b[39m\u001b[32m15\u001b[39m \u001b[43minsert_patient_data_3\u001b[49m\u001b[43m(\u001b[49m\u001b[33;43m'\u001b[39;49m\u001b[33;43mNitish\u001b[39;49m\u001b[33;43m'\u001b[39;49m\u001b[43m,\u001b[49m\u001b[43m \u001b[49m\u001b[43m-\u001b[49m\u001b[32;43m1\u001b[39;49m\u001b[43m)\u001b[49m\n",
      "\u001b[36mCell\u001b[39m\u001b[36m \u001b[39m\u001b[32mIn[10]\u001b[39m\u001b[32m, line 6\u001b[39m, in \u001b[36minsert_patient_data_3\u001b[39m\u001b[34m(name, age)\u001b[39m\n\u001b[32m      3\u001b[39m \u001b[38;5;28;01mif\u001b[39;00m \u001b[38;5;28mtype\u001b[39m(name) == \u001b[38;5;28mstr\u001b[39m \u001b[38;5;129;01mand\u001b[39;00m \u001b[38;5;28mtype\u001b[39m(age) == \u001b[38;5;28mint\u001b[39m:\n\u001b[32m      5\u001b[39m     \u001b[38;5;28;01mif\u001b[39;00m age < \u001b[32m0\u001b[39m:\n\u001b[32m----> \u001b[39m\u001b[32m6\u001b[39m         \u001b[38;5;28;01mraise\u001b[39;00m \u001b[38;5;167;01mValueError\u001b[39;00m(\u001b[33m\"\u001b[39m\u001b[33mAge can\u001b[39m\u001b[33m'\u001b[39m\u001b[33mt be negative.\u001b[39m\u001b[33m\"\u001b[39m)\n\u001b[32m      7\u001b[39m     \u001b[38;5;28;01melse\u001b[39;00m:\n\u001b[32m      8\u001b[39m         \u001b[38;5;28mprint\u001b[39m(name)\n",
      "\u001b[31mValueError\u001b[39m: Age can't be negative."
     ]
    }
   ],
   "source": [
    "def insert_patient_data_3(name : str, age : int):\n",
    "\n",
    "    if type(name) == str and type(age) == int:\n",
    "\n",
    "        if age < 0:\n",
    "            raise ValueError(\"Age can't be negative.\")\n",
    "        else:\n",
    "            print(name)\n",
    "            print(age)\n",
    "            print('inserted into database')\n",
    "    \n",
    "    else:\n",
    "        raise TypeError(\"Incorrect data type\")\n",
    "        \n",
    "insert_patient_data_3('Nitish', -1)"
   ]
  },
  {
   "cell_type": "markdown",
   "id": "45b339cf",
   "metadata": {},
   "source": [
    "But same lines of code we have to write for update_patient_data_3() which is not good. So, pydantic helps us to solve this type of problem."
   ]
  },
  {
   "cell_type": "markdown",
   "id": "ff286eb3",
   "metadata": {},
   "source": [
    "### Pydantic\n",
    "\n",
    "#### I. Define a Pydantic model (class) that represents the ideal schema of the data.\n",
    "\n",
    "• This includes the expected fields, their types, and any validation constraints (e.g., gt=ø for positive\n",
    "numbers). <br>\n",
    "\n",
    "#### 2. Instantiate the model with raw input data (usually a dictionary or JSON-like structure).\n",
    "\n",
    "Pydantic will automatically validate the data and coerce it into the correct Python types (if\n",
    "possible). <br>\n",
    "\n",
    "• If the data doesn't meet the model's requirements. Pydantic raises a ValidationError .\n",
    "\n",
    "#### 3. Pass the validated model object to functions or use it throughout your codebase.\n",
    "\n",
    "• This ensures that every part of your program works with clean. type-safe, and logically valid data."
   ]
  },
  {
   "cell_type": "code",
   "execution_count": 11,
   "id": "b1adb855",
   "metadata": {},
   "outputs": [
    {
     "name": "stdout",
     "output_type": "stream",
     "text": [
      "Collecting pydantic\n",
      "  Using cached pydantic-2.11.5-py3-none-any.whl.metadata (67 kB)\n",
      "Collecting annotated-types>=0.6.0 (from pydantic)\n",
      "  Using cached annotated_types-0.7.0-py3-none-any.whl.metadata (15 kB)\n",
      "Collecting pydantic-core==2.33.2 (from pydantic)\n",
      "  Downloading pydantic_core-2.33.2-cp312-cp312-win_amd64.whl.metadata (6.9 kB)\n",
      "Collecting typing-extensions>=4.12.2 (from pydantic)\n",
      "  Using cached typing_extensions-4.13.2-py3-none-any.whl.metadata (3.0 kB)\n",
      "Collecting typing-inspection>=0.4.0 (from pydantic)\n",
      "  Using cached typing_inspection-0.4.1-py3-none-any.whl.metadata (2.6 kB)\n",
      "Using cached pydantic-2.11.5-py3-none-any.whl (444 kB)\n",
      "Downloading pydantic_core-2.33.2-cp312-cp312-win_amd64.whl (2.0 MB)\n",
      "   ---------------------------------------- 0.0/2.0 MB ? eta -:--:--\n",
      "   ----- ---------------------------------- 0.3/2.0 MB ? eta -:--:--\n",
      "   ---------------- ----------------------- 0.8/2.0 MB 2.1 MB/s eta 0:00:01\n",
      "   -------------------------- ------------- 1.3/2.0 MB 2.2 MB/s eta 0:00:01\n",
      "   ------------------------------------- -- 1.8/2.0 MB 2.3 MB/s eta 0:00:01\n",
      "   ---------------------------------------- 2.0/2.0 MB 2.2 MB/s eta 0:00:00\n",
      "Using cached annotated_types-0.7.0-py3-none-any.whl (13 kB)\n",
      "Using cached typing_extensions-4.13.2-py3-none-any.whl (45 kB)\n",
      "Using cached typing_inspection-0.4.1-py3-none-any.whl (14 kB)\n",
      "Installing collected packages: typing-extensions, annotated-types, typing-inspection, pydantic-core, pydantic\n",
      "Successfully installed annotated-types-0.7.0 pydantic-2.11.5 pydantic-core-2.33.2 typing-extensions-4.13.2 typing-inspection-0.4.1\n",
      "Note: you may need to restart the kernel to use updated packages.\n"
     ]
    },
    {
     "name": "stderr",
     "output_type": "stream",
     "text": [
      "\n",
      "[notice] A new release of pip is available: 25.0.1 -> 25.1.1\n",
      "[notice] To update, run: python.exe -m pip install --upgrade pip\n"
     ]
    }
   ],
   "source": [
    "pip install pydantic"
   ]
  },
  {
   "cell_type": "code",
   "execution_count": 17,
   "id": "37a4c9c5",
   "metadata": {},
   "outputs": [
    {
     "name": "stdout",
     "output_type": "stream",
     "text": [
      "Nitish\n",
      "30\n",
      "Inserted\n"
     ]
    }
   ],
   "source": [
    "from pydantic import BaseModel\n",
    "\n",
    "class Patient(BaseModel):\n",
    "    name : str # Type validation\n",
    "    age : int\n",
    "\n",
    "patient_info_1 = {\"name\" : \"Nitish\", \"age\" : 30}\n",
    "\n",
    "patient_1 = Patient(**patient_info_1) # **patient_info ----> unpacking dictionary\n",
    "\n",
    "def insert_patient_data_4(patient : Patient):\n",
    "    print(patient.name)\n",
    "    print(patient.age)\n",
    "    print(\"Inserted\")\n",
    "\n",
    "insert_patient_data_4(patient_1)"
   ]
  },
  {
   "cell_type": "code",
   "execution_count": 18,
   "id": "f22f284f",
   "metadata": {},
   "outputs": [
    {
     "ename": "ValidationError",
     "evalue": "1 validation error for Patient\nage\n  Input should be a valid integer, unable to parse string as an integer [type=int_parsing, input_value='thirty', input_type=str]\n    For further information visit https://errors.pydantic.dev/2.11/v/int_parsing",
     "output_type": "error",
     "traceback": [
      "\u001b[31m---------------------------------------------------------------------------\u001b[39m",
      "\u001b[31mValidationError\u001b[39m                           Traceback (most recent call last)",
      "\u001b[36mCell\u001b[39m\u001b[36m \u001b[39m\u001b[32mIn[18]\u001b[39m\u001b[32m, line 3\u001b[39m\n\u001b[32m      1\u001b[39m patient_info_2 = {\u001b[33m\"\u001b[39m\u001b[33mname\u001b[39m\u001b[33m\"\u001b[39m:\u001b[33m\"\u001b[39m\u001b[33mbittu\u001b[39m\u001b[33m\"\u001b[39m,\u001b[33m\"\u001b[39m\u001b[33mage\u001b[39m\u001b[33m\"\u001b[39m:\u001b[33m\"\u001b[39m\u001b[33mthirty\u001b[39m\u001b[33m\"\u001b[39m}\n\u001b[32m----> \u001b[39m\u001b[32m3\u001b[39m patient_2 = \u001b[43mPatient\u001b[49m\u001b[43m(\u001b[49m\u001b[43m*\u001b[49m\u001b[43m*\u001b[49m\u001b[43mpatient_info_2\u001b[49m\u001b[43m)\u001b[49m\n\u001b[32m      5\u001b[39m insert_patient_data_4(patient_2)\n",
      "\u001b[36mFile \u001b[39m\u001b[32mc:\\Users\\bittuk\\AppData\\Local\\Programs\\Python\\Python312\\Lib\\site-packages\\pydantic\\main.py:253\u001b[39m, in \u001b[36mBaseModel.__init__\u001b[39m\u001b[34m(self, **data)\u001b[39m\n\u001b[32m    251\u001b[39m \u001b[38;5;66;03m# `__tracebackhide__` tells pytest and some other tools to omit this function from tracebacks\u001b[39;00m\n\u001b[32m    252\u001b[39m __tracebackhide__ = \u001b[38;5;28;01mTrue\u001b[39;00m\n\u001b[32m--> \u001b[39m\u001b[32m253\u001b[39m validated_self = \u001b[38;5;28;43mself\u001b[39;49m\u001b[43m.\u001b[49m\u001b[43m__pydantic_validator__\u001b[49m\u001b[43m.\u001b[49m\u001b[43mvalidate_python\u001b[49m\u001b[43m(\u001b[49m\u001b[43mdata\u001b[49m\u001b[43m,\u001b[49m\u001b[43m \u001b[49m\u001b[43mself_instance\u001b[49m\u001b[43m=\u001b[49m\u001b[38;5;28;43mself\u001b[39;49m\u001b[43m)\u001b[49m\n\u001b[32m    254\u001b[39m \u001b[38;5;28;01mif\u001b[39;00m \u001b[38;5;28mself\u001b[39m \u001b[38;5;129;01mis\u001b[39;00m \u001b[38;5;129;01mnot\u001b[39;00m validated_self:\n\u001b[32m    255\u001b[39m     warnings.warn(\n\u001b[32m    256\u001b[39m         \u001b[33m'\u001b[39m\u001b[33mA custom validator is returning a value other than `self`.\u001b[39m\u001b[38;5;130;01m\\n\u001b[39;00m\u001b[33m'\u001b[39m\n\u001b[32m    257\u001b[39m         \u001b[33m\"\u001b[39m\u001b[33mReturning anything other than `self` from a top level model validator isn\u001b[39m\u001b[33m'\u001b[39m\u001b[33mt supported when validating via `__init__`.\u001b[39m\u001b[38;5;130;01m\\n\u001b[39;00m\u001b[33m\"\u001b[39m\n\u001b[32m    258\u001b[39m         \u001b[33m'\u001b[39m\u001b[33mSee the `model_validator` docs (https://docs.pydantic.dev/latest/concepts/validators/#model-validators) for more details.\u001b[39m\u001b[33m'\u001b[39m,\n\u001b[32m    259\u001b[39m         stacklevel=\u001b[32m2\u001b[39m,\n\u001b[32m    260\u001b[39m     )\n",
      "\u001b[31mValidationError\u001b[39m: 1 validation error for Patient\nage\n  Input should be a valid integer, unable to parse string as an integer [type=int_parsing, input_value='thirty', input_type=str]\n    For further information visit https://errors.pydantic.dev/2.11/v/int_parsing"
     ]
    }
   ],
   "source": [
    "patient_info_2 = {\"name\":\"bittu\",\"age\":\"thirty\"}\n",
    "\n",
    "patient_2 = Patient(**patient_info_2)\n",
    "\n",
    "insert_patient_data_4(patient_2)"
   ]
  },
  {
   "cell_type": "code",
   "execution_count": 20,
   "id": "1e4726cc",
   "metadata": {},
   "outputs": [
    {
     "name": "stdout",
     "output_type": "stream",
     "text": [
      "anil\n",
      "50\n",
      "Updated\n"
     ]
    }
   ],
   "source": [
    "def update_patient_data_3(patient : Patient):\n",
    "    print(patient.name)\n",
    "    print(patient.age)\n",
    "    print(\"Updated\")\n",
    "\n",
    "patient_info_3 = {\"name\" : \"anil\", \"age\" : 50}\n",
    "patient_3 = Patient(**patient_info_3)\n",
    "\n",
    "update_patient_data_3(patient_3)"
   ]
  },
  {
   "cell_type": "code",
   "execution_count": 21,
   "id": "5a3bc16a",
   "metadata": {},
   "outputs": [
    {
     "ename": "ValidationError",
     "evalue": "1 validation error for Patient\nage\n  Input should be a valid integer, unable to parse string as an integer [type=int_parsing, input_value='eighty', input_type=str]\n    For further information visit https://errors.pydantic.dev/2.11/v/int_parsing",
     "output_type": "error",
     "traceback": [
      "\u001b[31m---------------------------------------------------------------------------\u001b[39m",
      "\u001b[31mValidationError\u001b[39m                           Traceback (most recent call last)",
      "\u001b[36mCell\u001b[39m\u001b[36m \u001b[39m\u001b[32mIn[21]\u001b[39m\u001b[32m, line 3\u001b[39m\n\u001b[32m      1\u001b[39m patient_info_4 = {\u001b[33m\"\u001b[39m\u001b[33mname\u001b[39m\u001b[33m\"\u001b[39m : \u001b[33m\"\u001b[39m\u001b[33mlokesh\u001b[39m\u001b[33m\"\u001b[39m, \u001b[33m\"\u001b[39m\u001b[33mage\u001b[39m\u001b[33m\"\u001b[39m : \u001b[33m\"\u001b[39m\u001b[33meighty\u001b[39m\u001b[33m\"\u001b[39m}\n\u001b[32m----> \u001b[39m\u001b[32m3\u001b[39m patient_4 = \u001b[43mPatient\u001b[49m\u001b[43m(\u001b[49m\u001b[43m*\u001b[49m\u001b[43m*\u001b[49m\u001b[43mpatient_info_4\u001b[49m\u001b[43m)\u001b[49m\n\u001b[32m      5\u001b[39m update_patient_data_3(patient_4)\n",
      "\u001b[36mFile \u001b[39m\u001b[32mc:\\Users\\bittuk\\AppData\\Local\\Programs\\Python\\Python312\\Lib\\site-packages\\pydantic\\main.py:253\u001b[39m, in \u001b[36mBaseModel.__init__\u001b[39m\u001b[34m(self, **data)\u001b[39m\n\u001b[32m    251\u001b[39m \u001b[38;5;66;03m# `__tracebackhide__` tells pytest and some other tools to omit this function from tracebacks\u001b[39;00m\n\u001b[32m    252\u001b[39m __tracebackhide__ = \u001b[38;5;28;01mTrue\u001b[39;00m\n\u001b[32m--> \u001b[39m\u001b[32m253\u001b[39m validated_self = \u001b[38;5;28;43mself\u001b[39;49m\u001b[43m.\u001b[49m\u001b[43m__pydantic_validator__\u001b[49m\u001b[43m.\u001b[49m\u001b[43mvalidate_python\u001b[49m\u001b[43m(\u001b[49m\u001b[43mdata\u001b[49m\u001b[43m,\u001b[49m\u001b[43m \u001b[49m\u001b[43mself_instance\u001b[49m\u001b[43m=\u001b[49m\u001b[38;5;28;43mself\u001b[39;49m\u001b[43m)\u001b[49m\n\u001b[32m    254\u001b[39m \u001b[38;5;28;01mif\u001b[39;00m \u001b[38;5;28mself\u001b[39m \u001b[38;5;129;01mis\u001b[39;00m \u001b[38;5;129;01mnot\u001b[39;00m validated_self:\n\u001b[32m    255\u001b[39m     warnings.warn(\n\u001b[32m    256\u001b[39m         \u001b[33m'\u001b[39m\u001b[33mA custom validator is returning a value other than `self`.\u001b[39m\u001b[38;5;130;01m\\n\u001b[39;00m\u001b[33m'\u001b[39m\n\u001b[32m    257\u001b[39m         \u001b[33m\"\u001b[39m\u001b[33mReturning anything other than `self` from a top level model validator isn\u001b[39m\u001b[33m'\u001b[39m\u001b[33mt supported when validating via `__init__`.\u001b[39m\u001b[38;5;130;01m\\n\u001b[39;00m\u001b[33m\"\u001b[39m\n\u001b[32m    258\u001b[39m         \u001b[33m'\u001b[39m\u001b[33mSee the `model_validator` docs (https://docs.pydantic.dev/latest/concepts/validators/#model-validators) for more details.\u001b[39m\u001b[33m'\u001b[39m,\n\u001b[32m    259\u001b[39m         stacklevel=\u001b[32m2\u001b[39m,\n\u001b[32m    260\u001b[39m     )\n",
      "\u001b[31mValidationError\u001b[39m: 1 validation error for Patient\nage\n  Input should be a valid integer, unable to parse string as an integer [type=int_parsing, input_value='eighty', input_type=str]\n    For further information visit https://errors.pydantic.dev/2.11/v/int_parsing"
     ]
    }
   ],
   "source": [
    "patient_info_4 = {\"name\" : \"lokesh\", \"age\" : \"eighty\"}\n",
    "\n",
    "patient_4 = Patient(**patient_info_4)\n",
    "\n",
    "update_patient_data_3(patient_4)\n"
   ]
  },
  {
   "cell_type": "code",
   "execution_count": 23,
   "id": "5f450552",
   "metadata": {},
   "outputs": [],
   "source": [
    "# If for suppose we have to add a one new variable then we only have to add that in our model.\n",
    "\n",
    "class Patient(BaseModel):\n",
    "    name : str\n",
    "    age : int\n",
    "    weight : float"
   ]
  },
  {
   "cell_type": "code",
   "execution_count": 25,
   "id": "9a1e8304",
   "metadata": {},
   "outputs": [
    {
     "name": "stdout",
     "output_type": "stream",
     "text": [
      "bittu\n",
      "30\n",
      "Inserted\n"
     ]
    }
   ],
   "source": [
    "# Automatically, pydantic is smart enough to convert the type of data.\n",
    "class Patient(BaseModel):\n",
    "    name : str\n",
    "    age : int\n",
    "\n",
    "patient_info_5 = {\"name\" : \"bittu\", \"age\" : \"30\"}\n",
    "\n",
    "patient_5 = Patient(**patient_info_5)\n",
    "\n",
    "def insert(patient : Patient):\n",
    "    print(patient.name)\n",
    "    print(patient.age)\n",
    "    print(\"Inserted\")\n",
    "\n",
    "insert(patient_5)"
   ]
  },
  {
   "cell_type": "code",
   "execution_count": null,
   "id": "0581171c",
   "metadata": {},
   "outputs": [],
   "source": []
  }
 ],
 "metadata": {
  "kernelspec": {
   "display_name": "Python 3",
   "language": "python",
   "name": "python3"
  },
  "language_info": {
   "codemirror_mode": {
    "name": "ipython",
    "version": 3
   },
   "file_extension": ".py",
   "mimetype": "text/x-python",
   "name": "python",
   "nbconvert_exporter": "python",
   "pygments_lexer": "ipython3",
   "version": "3.12.10"
  }
 },
 "nbformat": 4,
 "nbformat_minor": 5
}
