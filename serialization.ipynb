{
 "cells": [
  {
   "cell_type": "markdown",
   "id": "31a16ea0",
   "metadata": {},
   "source": [
    "# Serialization"
   ]
  },
  {
   "cell_type": "markdown",
   "id": "1719314f",
   "metadata": {},
   "source": [
    "Convert existing Pydantic model's object into dictionary or json format ."
   ]
  },
  {
   "cell_type": "code",
   "execution_count": 5,
   "id": "219a33ed",
   "metadata": {},
   "outputs": [
    {
     "name": "stdout",
     "output_type": "stream",
     "text": [
      "{'name': 'nitish', 'gender': 'male', 'age': 28, 'address': {'city': 'gurgaon', 'state': 'haryana', 'pin': 122021}}\n",
      "<class 'dict'>\n"
     ]
    }
   ],
   "source": [
    "from pydantic import BaseModel\n",
    "\n",
    "class Address(BaseModel):\n",
    "    city : str\n",
    "    state : str\n",
    "    pin : int\n",
    "\n",
    "class Patient(BaseModel):\n",
    "    name : str\n",
    "    gender : str\n",
    "    age : int\n",
    "    address : Address\n",
    "\n",
    "address_info = {\"city\" : \"gurgaon\", \"state\" : \"haryana\", \"pin\" : \"122021\"}\n",
    "address1 = Address(**address_info)\n",
    "\n",
    "patient_info = {\"name\" : \"nitish\", \"gender\" : \"male\", \"age\" : 28, \"address\" : address1}\n",
    "\n",
    "patient1 = Patient(**patient_info)\n",
    "# print(patient1)\n",
    "# print(patient1.name)\n",
    "# print(patient1.address.city)\n",
    "# print(patient1.address.pin)\n",
    "\n",
    "temp = patient1.model_dump() # Convert existing model object into python dictionary \n",
    "\n",
    "print(temp)\n",
    "print(type(temp))"
   ]
  },
  {
   "cell_type": "code",
   "execution_count": null,
   "id": "93b6336c",
   "metadata": {},
   "outputs": [
    {
     "name": "stdout",
     "output_type": "stream",
     "text": [
      "{\"name\":\"nitish\",\"gender\":\"male\",\"age\":28,\"address\":{\"city\":\"gurgaon\",\"state\":\"haryana\",\"pin\":122021}}\n",
      "<class 'str'>\n"
     ]
    }
   ],
   "source": [
    "temp1 = patient1.model_dump_json() # Convert existing model object into json dictionary \n",
    "\n",
    "print(temp1)\n",
    "print(type(temp1)) "
   ]
  },
  {
   "cell_type": "code",
   "execution_count": 7,
   "id": "31ba71f1",
   "metadata": {},
   "outputs": [
    {
     "name": "stdout",
     "output_type": "stream",
     "text": [
      "{'name': 'nitish', 'gender': 'male'}\n",
      "<class 'dict'>\n"
     ]
    }
   ],
   "source": [
    "# When we want to export only few variable then use include keyword in model_dump()\n",
    "\n",
    "temp = patient1.model_dump(include=['name', 'gender'])\n",
    "\n",
    "print(temp)\n",
    "print(type(temp))"
   ]
  },
  {
   "cell_type": "code",
   "execution_count": 8,
   "id": "2347f300",
   "metadata": {},
   "outputs": [
    {
     "name": "stdout",
     "output_type": "stream",
     "text": [
      "{'name': 'nitish', 'gender': 'male', 'address': {'city': 'gurgaon', 'state': 'haryana', 'pin': 122021}}\n",
      "<class 'dict'>\n"
     ]
    }
   ],
   "source": [
    "# When we want to exclude few variable while exporting then use exclude keyword in model_dump()\n",
    "\n",
    "temp = patient1.model_dump(exclude=['age'])\n",
    "\n",
    "print(temp)\n",
    "print(type(temp))"
   ]
  },
  {
   "cell_type": "code",
   "execution_count": 9,
   "id": "539266d9",
   "metadata": {},
   "outputs": [
    {
     "name": "stdout",
     "output_type": "stream",
     "text": [
      "{'name': 'nitish', 'gender': 'male', 'age': 28, 'address': {'city': 'gurgaon', 'pin': 122021}}\n",
      "<class 'dict'>\n"
     ]
    }
   ],
   "source": [
    "temp = patient1.model_dump(exclude={'address' : ['state']})\n",
    "\n",
    "print(temp)\n",
    "print(type(temp))"
   ]
  },
  {
   "cell_type": "code",
   "execution_count": 10,
   "id": "95a83a39",
   "metadata": {},
   "outputs": [
    {
     "name": "stdout",
     "output_type": "stream",
     "text": [
      "{'name': 'nitish', 'gender': 'male', 'age': 28, 'address': {'city': 'gurgaon', 'state': 'haryana', 'pin': 122021}}\n",
      "<class 'dict'>\n"
     ]
    }
   ],
   "source": [
    "from pydantic import BaseModel\n",
    "\n",
    "class Address(BaseModel):\n",
    "    city : str\n",
    "    state : str \n",
    "    pin : int\n",
    "\n",
    "class Patient(BaseModel):\n",
    "    name : str\n",
    "    gender : str = 'male'\n",
    "    age : int\n",
    "    address : Address\n",
    "\n",
    "address_info = {\"city\" : \"gurgaon\", \"state\" : \"haryana\", \"pin\" : \"122021\"}\n",
    "address1 = Address(**address_info)\n",
    "\n",
    "patient_info = {\"name\" : \"nitish\", \"age\" : 28, \"address\" : address1}\n",
    "\n",
    "patient1 = Patient(**patient_info)\n",
    "\n",
    "temp = patient1.model_dump() \n",
    "\n",
    "print(temp)\n",
    "print(type(temp))"
   ]
  },
  {
   "cell_type": "markdown",
   "id": "1014142d",
   "metadata": {},
   "source": [
    "### USE of exclude_unset :- \n",
    "\n",
    "Generate a dict without default values from the input model (using exclude_unset ). This way you can update only the values actually set by the user, instead of overriding values already stored with default values in your model."
   ]
  },
  {
   "cell_type": "code",
   "execution_count": 11,
   "id": "78e9bd0c",
   "metadata": {},
   "outputs": [
    {
     "name": "stdout",
     "output_type": "stream",
     "text": [
      "{'name': 'nitish', 'age': 28, 'address': {'city': 'gurgaon', 'state': 'haryana', 'pin': 122021}}\n",
      "<class 'dict'>\n"
     ]
    }
   ],
   "source": [
    "from pydantic import BaseModel\n",
    "\n",
    "class Address(BaseModel):\n",
    "    city : str\n",
    "    state : str \n",
    "    pin : int\n",
    "\n",
    "class Patient(BaseModel):\n",
    "    name : str\n",
    "    gender : str = 'male'\n",
    "    age : int\n",
    "    address : Address\n",
    "\n",
    "address_info = {\"city\" : \"gurgaon\", \"state\" : \"haryana\", \"pin\" : \"122021\"}\n",
    "address1 = Address(**address_info)\n",
    "\n",
    "patient_info = {\"name\" : \"nitish\", \"age\" : 28, \"address\" : address1}\n",
    "\n",
    "patient1 = Patient(**patient_info)\n",
    "\n",
    "temp = patient1.model_dump(exclude_unset=True) \n",
    "\n",
    "print(temp)\n",
    "print(type(temp))"
   ]
  },
  {
   "cell_type": "code",
   "execution_count": null,
   "id": "1036398c",
   "metadata": {},
   "outputs": [],
   "source": []
  }
 ],
 "metadata": {
  "kernelspec": {
   "display_name": "Python 3",
   "language": "python",
   "name": "python3"
  },
  "language_info": {
   "codemirror_mode": {
    "name": "ipython",
    "version": 3
   },
   "file_extension": ".py",
   "mimetype": "text/x-python",
   "name": "python",
   "nbconvert_exporter": "python",
   "pygments_lexer": "ipython3",
   "version": "3.12.10"
  }
 },
 "nbformat": 4,
 "nbformat_minor": 5
}
